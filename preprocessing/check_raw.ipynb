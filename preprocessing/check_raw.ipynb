{
 "cells": [
  {
   "cell_type": "markdown",
   "metadata": {},
   "source": [
    "# Check data\n",
    "This notebook is used to plot the raw data to;\n",
    "1. identify bad channels\n",
    "2. identify the beginning and the end of the experiment\n",
    "\n",
    "Remember to add the channels, tmin and tmax to event_session_info.py. Remember to run generate_session_info.py after changing the values."
   ]
  },
  {
   "cell_type": "code",
   "execution_count": null,
   "metadata": {},
   "outputs": [],
   "source": [
    "import mne\n",
    "from pathlib import Path"
   ]
  },
  {
   "cell_type": "code",
   "execution_count": null,
   "metadata": {},
   "outputs": [],
   "source": [
    "MEG_data_path = Path(\"/work/834761\")\n",
    "subject = \"0115\"\n",
    "subject_folder = \"20230928_000000\"\n",
    "recording_name = \"001.self_block1\"\n",
    "#['001.self_block1',  '002.other_block1', '003.self_block2',  '004.other_block2', '005.self_block3',  '006.other_block3']\n",
    "\n",
    "# get the fif file in the folder by listing files in path\n",
    "fif_file_path = list((MEG_data_path / subject / subject_folder / \"MEG\" / recording_name / \"files\").glob(\"*.fif\"))[0]\n",
    "\n",
    "# read fif file\n",
    "raw = mne.io.read_raw_fif(fif_file_path, preload=True)"
   ]
  },
  {
   "cell_type": "code",
   "execution_count": null,
   "metadata": {},
   "outputs": [],
   "source": [
    "# initial preprocessing to make it easier to look at!\n",
    "\n",
    "raw.apply_proj()"
   ]
  },
  {
   "cell_type": "code",
   "execution_count": null,
   "metadata": {},
   "outputs": [],
   "source": [
    "events = mne.find_events(raw, min_duration=0.002)\n",
    "\n",
    "sampling_rate = 1/raw.info[\"sfreq\"]\n",
    "\n",
    "tmin = (events[0][0] - raw.first_samp) * sampling_rate - 1\n",
    "tmax = (events[-2][0] - raw.first_samp) * sampling_rate + 1\n",
    "\n",
    "raw.crop(tmin = tmin, tmax = tmax)"
   ]
  },
  {
   "cell_type": "code",
   "execution_count": null,
   "metadata": {},
   "outputs": [],
   "source": [
    "# get channel names\n",
    "chs = raw.ch_names\n",
    "chs = [ch for ch in chs if ch.startswith(\"MEG\")]\n",
    "\n",
    "\n",
    "# plot 20 channels at a time\n",
    "for i in range(0, len(chs), 20):\n",
    "    raw_tmp = raw.copy().pick(chs[i:i+20])\n",
    "    raw_tmp.plot(start = 40, duration=15);"
   ]
  }
 ],
 "metadata": {
  "kernelspec": {
   "display_name": "env",
   "language": "python",
   "name": "env"
  },
  "language_info": {
   "codemirror_mode": {
    "name": "ipython",
    "version": 3
   },
   "file_extension": ".py",
   "mimetype": "text/x-python",
   "name": "python",
   "nbconvert_exporter": "python",
   "pygments_lexer": "ipython3",
   "version": "3.10.12"
  },
  "orig_nbformat": 4
 },
 "nbformat": 4,
 "nbformat_minor": 2
}
